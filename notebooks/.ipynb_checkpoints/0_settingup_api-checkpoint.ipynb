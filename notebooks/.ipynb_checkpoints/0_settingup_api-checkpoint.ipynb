{
 "cells": [
  {
   "cell_type": "markdown",
   "id": "9ea471de",
   "metadata": {},
   "source": [
    "# GenAI Transcript Analysis\n",
    "## Project Overview\n",
    "This notebook is for analyzing call transcripts using generative AI to detect fraud patterns and customer sentiment.\n",
    "\n",
    "## Initial Setup\n",
    "- Created on: July 05, 2025\n",
    "- Author: Shubhadeep Das\n",
    "- Objective: Prototype fraud detection using transcript data."
   ]
  },
  {
   "cell_type": "code",
   "execution_count": 1,
   "id": "e4d3c5c3",
   "metadata": {},
   "outputs": [
    {
     "name": "stdout",
     "output_type": "stream",
     "text": [
      "Hello, GenAI Transcript Project!\n"
     ]
    }
   ],
   "source": [
    "# Import essential libraries\n",
    "import pandas as pd\n",
    "import numpy as np\n",
    "import os\n",
    "\n",
    "# Placeholder for future code\n",
    "print('Hello, GenAI Transcript Project!')"
   ]
  },
  {
   "cell_type": "markdown",
   "id": "a68bc582-79b1-44c6-bf40-c531eb45d50b",
   "metadata": {},
   "source": [
    "# GenAI Transcript Project\n",
    "## Prompt Input/Output with Google Gemini API (Free)\n",
    "- **Created on**: July 05, 2025\n",
    "- **Author**: Shubhadeep Das\n",
    "- **Objective**: Generate text from user prompts using Google's Gemini API (free tier).\n",
    "- **Future Scope**: Integrate transcript data, fine-tune models, or scale with Google Cloud."
   ]
  },
  {
   "cell_type": "markdown",
   "id": "a3d6e90d-7b5a-434d-8017-f4b61b1cd6f9",
   "metadata": {
    "scrolled": true
   },
   "source": [
    "# Install required library (run once in your environment)\n",
    "!pip install -U google-generativeai"
   ]
  },
  {
   "cell_type": "code",
   "execution_count": 2,
   "id": "d25470f0-8dfd-4e22-b963-ea6924979a73",
   "metadata": {},
   "outputs": [],
   "source": [
    "# Import necessary modules\n",
    "import google.generativeai as genai"
   ]
  },
  {
   "cell_type": "code",
   "execution_count": 3,
   "id": "b26ff927-e9a4-4bd2-8494-1d6baa940e5b",
   "metadata": {},
   "outputs": [],
   "source": [
    "# Set your Gemini API key (get from https://aistudio.google.com)\n",
    "GOOGLE_API_KEY = os.getenv('GOOGLE_API_KEY')\n",
    "genai.configure(api_key=GOOGLE_API_KEY)"
   ]
  },
  {
   "cell_type": "code",
   "execution_count": 71,
   "id": "febc22a8-2172-40e6-940d-0e7bf71646e6",
   "metadata": {},
   "outputs": [],
   "source": [
    "# Initialize the Gemini model\n",
    "model_1 = genai.GenerativeModel('gemini-1.5-flash')  # Free-tier model\n",
    "model_2 = genai.GenerativeModel('gemini-2.5-flash')  # Free-tier model"
   ]
  },
  {
   "cell_type": "code",
   "execution_count": 69,
   "id": "a34cbc44-15b0-43c6-afd2-8c9ec4fe5c0b",
   "metadata": {},
   "outputs": [],
   "source": [
    "def chat(prompt, model):\n",
    "    # Generate text\n",
    "    response = model.generate_content(prompt, generation_config={\n",
    "        'max_output_tokens': 1500,\n",
    "        'temperature': 0.7\n",
    "    })\n",
    "    \n",
    "    # Return the generated text\n",
    "    return response.text.strip()"
   ]
  },
  {
   "cell_type": "code",
   "execution_count": 23,
   "id": "8bb6766a-b439-4e3d-a545-a3e1f56b2851",
   "metadata": {},
   "outputs": [
    {
     "name": "stdout",
     "output_type": "stream",
     "text": [
      "I am a large language model, trained by Google.  I'm here to help you with a wide range of tasks, from answering your questions to generating creative text formats like poems, code, scripts, musical pieces, email, letters, etc.  I don't have personal experiences, feelings, or opinions like a human does. My knowledge is based on the massive dataset I was trained on.  Think of me as a very advanced information retrieval and text generation system.\n"
     ]
    }
   ],
   "source": [
    "print(chat(\"Tell me something about yourself\", model_1))"
   ]
  },
  {
   "cell_type": "code",
   "execution_count": 24,
   "id": "1de9e0c1-7872-482d-95ec-eb15b0f3de6f",
   "metadata": {},
   "outputs": [
    {
     "name": "stdout",
     "output_type": "stream",
     "text": [
      "That's a great question! As a large language model, I don't have a \"self\" in the human sense, but I can tell you about my nature and purpose:\n",
      "\n",
      "*   **What I am:** I am a large language model, an AI.\n",
      "*   **My Origin:** I was trained by Google.\n",
      "*   **My Purpose:** My primary function is to assist users by providing information, generating text, answering questions, summarizing, translating, and generally helping with language-based tasks.\n",
      "*   **My \"Experience\":** I don't have personal experiences\n"
     ]
    }
   ],
   "source": [
    "print(chat(\"Tell me something about yourself\", model_2))"
   ]
  },
  {
   "cell_type": "code",
   "execution_count": 70,
   "id": "9b5997f7-3616-49e4-afb1-3d18e714c939",
   "metadata": {},
   "outputs": [
    {
     "name": "stdout",
     "output_type": "stream",
     "text": [
      "## Call Transcript: Bank Fraud Department\n",
      "\n",
      "**Date:** October 26, 2023\n",
      "**Time:** 14:37 PST\n",
      "**Agent:**  Sarah Chen (SC)\n",
      "**Customer:**  David Miller (DM)\n",
      "\n",
      "**(Call begins)**\n",
      "\n",
      "**SC:** Thank you for calling First National Bank, this is Sarah. How can I assist you today?\n",
      "\n",
      "**DM:** Hi Sarah, I think I've been a victim of fraud.  Someone's emptied my checking account.\n",
      "\n",
      "**SC:** I'm very sorry to hear that, Mr. Miller. Can I get your name and account number please?\n",
      "\n",
      "**DM:**  It's David Miller, account number 1234567890.\n",
      "\n",
      "**SC:** Thank you, Mr. Miller.  Could you please tell me what you noticed that led you to believe your account has been compromised?\n",
      "\n",
      "**DM:**  I checked my online banking this morning and saw a series of withdrawals I didn't authorize.  There are five transactions, all for $500 each, totaling $2500. They were made to different online retailers I've never used.  The transactions all happened last night between 11 PM and 1 AM.\n",
      "\n",
      "**SC:** I understand.  I'm going to flag your account immediately to prevent any further unauthorized transactions.  Can you describe the retailers involved?  Even partial names will help.\n",
      "\n",
      "**DM:**  Let me see…  One was something like \"TechGadget Emporium,\" another was \"Global Fashion Mart,\" and the others I can't quite recall.  The transaction descriptions were vague.\n",
      "\n",
      "**SC:** Okay, thank you.  Now, to help us investigate this further, could you please tell me if you've recently noticed anything unusual, such as: unsolicited emails, texts, or phone calls; any changes to your online banking password; or any suspicious activity on your computer or phone?\n",
      "\n",
      "**DM:**  I haven't received any suspicious emails or texts, but I did notice my computer was running slower than usual last night.  I didn't think much of it at the time.  And I haven't changed my password recently, to the best of my knowledge.\n",
      "\n",
      "**SC:**  Okay.  We'll need to launch a full investigation into this matter.  We'll review the transactions, analyze the IP addresses associated with them, and look for any patterns.  In the meantime, I'm going to temporarily freeze your account to secure it.  We'll issue you a new debit card and a new online banking password.\n",
      "\n",
      "**DM:** Okay, that sounds good.  What happens next?  Will I get my money back?\n",
      "\n",
      "**SC:**  We'll do everything we can to recover your funds.  The timeframe for this varies depending on the investigation's findings.  We'll keep you updated every step of the way.  We will also file a fraud report with the authorities.  I'm going to send you an email with a fraud claim form that you'll need to complete and return. This will help expedite the process.\n",
      "\n",
      "**DM:** Great. Thank you for your help. I'm just so relieved I contacted you.\n",
      "\n",
      "**SC:** You're very welcome, Mr. Miller. We're here to support you.  I'll send you that email shortly with the claim form and instructions.  Please expect to hear from our fraud investigation team within 24-48 hours.  Is there anything else I can assist you with today?\n",
      "\n",
      "**DM:** No, I think that's everything. Thank you again.\n",
      "\n",
      "**SC:** You're welcome, Mr. Miller.  Have a good day and please don't hesitate to contact us if you have any further questions.\n",
      "\n",
      "**(Call ends)**\n"
     ]
    }
   ],
   "source": [
    "print(chat(\"Generate a call transcript between a bank agent and a customer who got defrauded\", model_1))"
   ]
  },
  {
   "cell_type": "code",
   "execution_count": 73,
   "id": "caab7740-7784-4195-b86b-587a0f417da8",
   "metadata": {},
   "outputs": [],
   "source": [
    "pmt = \"Generate a call transcript between a bank agent and a customer who got defrauded\""
   ]
  },
  {
   "cell_type": "code",
   "execution_count": 75,
   "id": "99f9bc83-3d7a-41ec-9d8e-5a0be3e2132b",
   "metadata": {},
   "outputs": [
    {
     "name": "stdout",
     "output_type": "stream",
     "text": [
      "## Call Transcript: Fraud Report - Impersonation Scam\n",
      "\n",
      "**Characters:**\n",
      "\n",
      "*   **Sarah:** Bank Customer Service Agent\n",
      "*   **Mr. Thompson:** Customer, defrauded\n",
      "\n",
      "---\n",
      "\n",
      "**[Call Begins]**\n",
      "\n",
      "**Sarah:** Thank you for calling Horizon Bank, my name is Sarah. How may I help you today?\n",
      "\n",
      "**Mr. Thompson:** (Voice trembling, slightly agitated) Yes, hello. I... I think I've been scammed. I need help.\n",
      "\n",
      "**Sarah:** Oh dear, I'm so sorry to hear that, Mr. Thompson. That sounds very distressing. Before we go any further, just to confirm I'm speaking with the account holder, could you please verify your date of birth and the first line of your address for me?\n",
      "\n",
      "**Mr. Thompson:** (Provides details) ...and it's 123 Maple Street.\n",
      "\n",
      "**Sarah:** Thank you, Mr. Thompson. I see your account here. Now, please take a deep breath. Can you tell me what happened?\n",
      "\n",
      "**Mr. Thompson:** It was... it was an email. It looked exactly like it was from my internet provider, SkyNet. It said my last bill payment failed and my service would be disconnected within the hour if I didn't pay immediately. There was a link.\n",
      "\n",
      "**Sarah:** I understand. And you clicked on this link?\n",
      "\n",
      "**Mr. Thompson:** Yes, I did. It took me to a page that looked identical to SkyNet's login. I put in my username and password, and then it asked for my bank details to make the payment – sort code, account number, and then my debit card number and the three-digit code from the back. I just wanted my internet to stay on, you know?\n",
      "\n",
      "**Sarah:** Of course, Mr. Thompson. They often use urgency and fear to make people act quickly. Did you complete a payment on that site?\n",
      "\n",
      "**Mr. Thompson:** Yes, it said it was a payment of £45. But then, about an hour later, I got a text message from what looked like my bank – Horizon Bank – saying a large transaction of £2,500 had just been approved for an international transfer. I knew immediately something was wrong because I hadn't authorized anything like that. I checked my online banking, and it's gone. £2,500!\n",
      "\n",
      "**Sarah:** I see. So, the £45 payment you *thought* you made, and then a separate, unauthorized transaction of £2,500 appeared on your account?\n",
      "\n",
      "**Mr. Thompson:** Exactly! The £45 never even showed up as a pending transaction, but the £2,500 is definitely gone.\n",
      "\n",
      "**Sarah:** Thank you for explaining that, Mr. Thompson. I'm so sorry this has happened to you. This sounds like a classic phishing and impersonation scam, where they trick you into giving them your details and then use them for larger, unauthorized transactions.\n",
      "\n",
      "**Mr. Thompson:** Can you get it back? What do I do?\n",
      "\n",
      "**Sarah:** We will do everything we can to investigate this, Mr. Thompson. The very first thing we need to do is secure your accounts. I'm going to immediately freeze your debit card linked to that account to prevent any further unauthorized transactions.\n",
      "\n",
      "**Mr. Thompson:** Okay, thank you.\n",
      "\n",
      "**Sarah:** Secondly, since you entered your online banking login details on that fraudulent website, it is crucial that you change your online banking password immediately after this call. You can do this through our website or mobile app. Do you feel comfortable doing that?\n",
      "\n",
      "**Mr. Thompson:** Yes, I will.\n",
      "\n",
      "**Sarah:** Good. Now, regarding the £2,500 transaction, I'm opening a fraud investigation case for you right now. We will need to formally dispute this transaction. Can you tell me the exact date and time it appeared on your account, if you recall?\n",
      "\n",
      "**Mr. Thompson:** It was today, around 2:30 PM.\n",
      "\n",
      "**Sarah:** Okay. And the text message you received, do you still have it? And the email from \"SkyNet\"?\n",
      "\n",
      "**Mr. Thompson:** I think so. I can check my deleted items.\n",
      "\n",
      "**Sarah:** That would be very helpful. Any screenshots or copies of those communications will be crucial evidence for our investigation. We'll need to submit a formal dispute form, which I can send to your registered email address right now. It will ask for details similar to what you've just told me. Please fill it out as accurately and completely as possible.\n",
      "\n",
      "**Mr. Thompson:** How long does this take? Will I get my money back?\n",
      "\n",
      "**Sarah:** I understand you're worried about your funds, Mr. Thompson. Once we receive your completed dispute form and any supporting evidence, our fraud team will thoroughly investigate the transaction. This process can take up to 10 business days, but sometimes it can be longer depending on the complexity and if we need to contact the receiving bank. While I can't guarantee the outcome at this stage, we will do our utmost to recover your funds. We'll keep you updated throughout the investigation.\n",
      "\n",
      "**Mr. Thompson:** (Sighs) This is just awful. I feel so stupid.\n",
      "\n",
      "**Sarah:** Please don't feel stupid, Mr. Thompson. These scammers are incredibly sophisticated, and they target thousands of people every day. It's a very common type of fraud, and you're not alone. The important thing is that you contacted us quickly.\n",
      "\n",
      "**Sarah:** I also strongly recommend that you report this incident to the police. You can do this by calling Action Fraud, the UK's national reporting centre for fraud and cyber crime, on 0300 123 2040. They will give you a crime reference number, which can also be helpful for our investigation.\n",
      "\n",
      "**Mr. Thompson:** Action Fraud, okay.\n",
      "\n",
      "**Sarah:** So, to recap: I've frozen your debit card. I'm sending you the fraud dispute form to your email, which I need you to complete and return with any evidence you have. Please remember to change your online banking password immediately after this call. And I advise you to contact Action Fraud. Your fraud case reference number for this incident is **HRZ2024-0715-98765**.\n",
      "\n",
      "**Mr. Thompson:** Thank you, Sarah. Thank you so much. I... I really appreciate your help.\n",
      "\n",
      "**Sarah:** You're very welcome, Mr. Thompson. We're here to help you through this. Is there anything else I can assist you with right now, or any other questions you have about what's happened?\n",
      "\n",
      "**Mr. Thompson:** No, I think that's everything for now. You've given me a lot to do.\n",
      "\n",
      "**Sarah:** Please don't hesitate to call us back if you have any further questions or if anything else suspicious appears on your account. Thank you for contacting Horizon Bank, and please stay vigilant with any unexpected communications.\n",
      "\n",
      "**Mr. Thompson:** I will. Goodbye.\n",
      "\n",
      "**Sarah:** Goodbye, Mr. Thompson.\n",
      "\n",
      "**[Call Ends]**\n"
     ]
    }
   ],
   "source": [
    "response = model_2.generate_content(pmt, generation_config={\n",
    "    'max_output_tokens': 5000,\n",
    "    'temperature': 0.7\n",
    "})\n",
    "print(response.text.strip())"
   ]
  },
  {
   "cell_type": "code",
   "execution_count": null,
   "id": "ef02503e-f331-4810-a085-2e8d7d202423",
   "metadata": {},
   "outputs": [],
   "source": []
  },
  {
   "cell_type": "code",
   "execution_count": null,
   "id": "6fefb4a1-ba48-4b88-9dcb-3670edacabd4",
   "metadata": {},
   "outputs": [],
   "source": []
  },
  {
   "cell_type": "code",
   "execution_count": null,
   "id": "61f4a747-5a3e-47b4-a65d-497a01a07a92",
   "metadata": {},
   "outputs": [],
   "source": []
  },
  {
   "cell_type": "code",
   "execution_count": null,
   "id": "77480aa3-608d-48ae-b056-cc3ac2002f1c",
   "metadata": {},
   "outputs": [],
   "source": []
  },
  {
   "cell_type": "code",
   "execution_count": null,
   "id": "f701c081-ad6d-40f1-a118-e1fb21b5a2a1",
   "metadata": {},
   "outputs": [],
   "source": []
  },
  {
   "cell_type": "code",
   "execution_count": null,
   "id": "235a47d1-8c02-4673-803b-9d92f29c5976",
   "metadata": {},
   "outputs": [],
   "source": []
  }
 ],
 "metadata": {
  "kernelspec": {
   "display_name": "Python 3 (ipykernel)",
   "language": "python",
   "name": "python3"
  },
  "language_info": {
   "codemirror_mode": {
    "name": "ipython",
    "version": 3
   },
   "file_extension": ".py",
   "mimetype": "text/x-python",
   "name": "python",
   "nbconvert_exporter": "python",
   "pygments_lexer": "ipython3",
   "version": "3.13.3"
  }
 },
 "nbformat": 4,
 "nbformat_minor": 5
}
